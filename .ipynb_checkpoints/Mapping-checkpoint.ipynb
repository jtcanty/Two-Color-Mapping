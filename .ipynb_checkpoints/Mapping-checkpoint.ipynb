{
 "cells": [
  {
   "cell_type": "code",
   "execution_count": 57,
   "metadata": {
    "collapsed": false,
    "scrolled": false
   },
   "outputs": [],
   "source": [
    "\"\"\"\n",
    "Mapping.py\n",
    "\n",
    "Created by John Canty on 02-18-2017\n",
    "\n",
    "This module is based on Peter Comb's original Python code for aligning two-color data\n",
    "\n",
    "\"\"\"\n",
    "\n",
    "import numpy as np\n",
    "import matplotlib.pyplot as plt\n",
    "import scipy.interpolate as interp\n",
<<<<<<< HEAD
    "\n",
    "def makeLSQSpline( xl, yl, xr, yr, n):\n",
=======
    "import random\n",
    "    \n",
    "def makeLSQSpline(xl, yl, xr, yr, n = 20):\n",
>>>>>>> ed405ca8fc199076937bef814e1417e3174718bc
    "    \"\"\" Creates fitting function for mapping the left channel onto the right channel \"\"\"\n",
    "    \n",
    "    xmin = min(xl)\n",
    "    xmax = max(xl)\n",
    "    ymin = min(yl)\n",
    "    ymax = max(yl)\n",
    "    \n",
    "    xknots = np.linspace(xmin, xmax, n)\n",
    "    yknots = np.linspace(ymin, ymax, n)\n",
    "    \n",
    "    xspline = interp.LSQBivariateSpline(xl, yl, xr, xknots, yknots)\n",
    "    yspline = interp.LSQBivariateSpline(xl, yl, yr, xknots, yknots)\n",
<<<<<<< HEAD
    "    \n",
    "    def mapping(xl, yl):\n",
    "        xr = xspline.ev(xl,yl)\n",
    "        yr = yspline.ev(xl,yl)\n",
    "        return xr, yr\n",
    "    \n",
    "    mapping.xspline = xspline\n",
    "    mapping.yspline = yspline\n",
    "    mapping.maptype = \"LSQspline\"\n",
    "    return mapping\n",
    "\n",
    "if __name__ == '__main__':\n",
    "    main()\n",
    "\n",
    "    \n",
    "    \n",
    "    \n",
    "\n"
   ]
  },
  {
   "cell_type": "code",
   "execution_count": 49,
   "metadata": {
    "collapsed": false
   },
   "outputs": [
    {
     "ename": "SyntaxError",
     "evalue": "invalid syntax (<ipython-input-49-9abe679b9568>, line 13)",
     "output_type": "error",
     "traceback": [
      "\u001b[0;36m  File \u001b[0;32m\"<ipython-input-49-9abe679b9568>\"\u001b[0;36m, line \u001b[0;32m13\u001b[0m\n\u001b[0;31m    start =\u001b[0m\n\u001b[0m            ^\u001b[0m\n\u001b[0;31mSyntaxError\u001b[0m\u001b[0;31m:\u001b[0m invalid syntax\n"
     ]
    }
   ],
   "source": [
    "import sys\n",
    "import argparse\n",
    "\n",
    "from Mapping import *\n",
    "import numpy as np\n",
    "import matplotlib.pyplot as plt\n",
    "import scipy.interpolate as interp\n",
    "import xlrd\n",
    "\n",
    "def main():\n",
    "    '''Main function docstring'''\n",
    "    from scipy.io import loadmat\n",
    "    \n",
    "    data = loadmat(matfile,struct_as_record = False, squeeze_me = True)\n",
    "    xl = data[]\n",
    "    yl = data[]\n",
    "    xr = data[]\n",
    "    yr = data[]\n",
    "    \n",
    "    reg_dev = []\n",
    "    \n",
    "    # Perform mapping \n",
    "    for i in range(0, len(xl):\n",
    "        # Save a point in the grid in both channels\n",
    "        xl_p = xl[i]\n",
    "        yl_p = yl[i]\n",
    "        xr_p = xr[i]\n",
    "        yr_p = xr[i]\n",
    "                   \n",
    "        # Save the rest of the points\n",
    "        xl_n = xl[:i] + xl[i+1:]\n",
    "        yl_n = yl[:i] + yl[i+1:]\n",
    "        xr_n = xr[:i] + xr[i+1:]\n",
    "        yr_n = yr[:i] + yr[i+1:]\n",
    "\n",
    "        # Generate the mapping           \n",
    "        mapping = makeLSQSpline( xl_n, yl_n, xr_n, yr_n, n)\n",
    "        xr_map, yr_map = mapping(xl_p, yl_p)\n",
    "        \n",
    "        # Calculate target registration error\n",
    "        RMSD = sqrt(abs(xr_map - xr_p)**2 + abs(yr_map - yr_p)**2)                    \n",
    "        reg_dev = reg_dev.append(RMSD)\n",
    "                \n",
    "    mu = mean(reg_dev)\n",
    "    sigma = std(reg_dev)\n",
    "    \n",
    "    # Plot original channels\n",
    "    plt.plot(xr, yr, 'bo')\n",
    "    plt.plot(xl, yl, 'ro')\n",
    "    plt.show()\n",
    "    \n",
    "    # Plot registration error histogram\n",
    "    plt.hist(reg_dev,bins = 15)\n",
    "    plt.show()\n",
    "                   \n",
    "    \n",
    "\n",
    "    \n",
    "\n",
    "if __name__ == '__main__':\n",
    "    main()"
   ]
  },
  {
   "cell_type": "code",
   "execution_count": null,
   "metadata": {
    "collapsed": true
   },
   "outputs": [],
   "source": [
    "\n"
=======
    "    \n",
    "    def mapping(xl,yl):\n",
    "        \"\"\" Maps left channel onto the right channel \"\"\"\n",
    "        xr = xspline.ev(xl,yl)\n",
    "        yr = yspline.ev(xl,yl)\n",
    "        return (xr, yr)\n",
    "    \n",
    "    mapping.xspline = xspline\n",
    "    mapping.yspline = yspline\n",
    "    return mapping\n",
    "\n",
    "def SplitData(xl, yl, xr, yr):\n",
    "    '''Selects 90% of data points for mapping and the rest for calculating registration error'''\n",
    "    \n"
>>>>>>> ed405ca8fc199076937bef814e1417e3174718bc
   ]
  },
  {
   "cell_type": "code",
   "execution_count": null,
   "metadata": {
    "collapsed": true
   },
   "outputs": [],
   "source": [
    "from Mapping import *\n",
    "\n",
    "\n",
    "def main():\n",
    "    '''Main function docstring'''\n",
    "    import sys\n",
    "    from scipy.io import loadmat\n",
    "    import argparse\n",
    "    \n",
    "    # Parse arguments\n",
    "    try:\n",
    "        parser = argparse.ArgumentParser(description='Input .mat file path containing both channels')\n",
    "        parser.add_argument(\"string\", type=string, help=\"display .mat file path\")\n",
    "\n",
    "    except:\n",
    "        sys.exit(2)\n",
    "        \n",
    "    \n",
    "    # Import data\n",
    "    data = loadmat(matfile, struct_as_record = False, squeeze_me = True)\n",
    "    xl = data[]\n",
    "    yl = data[]\n",
    "    xr = data[]\n",
    "    yr = data[]\n",
    "    \n",
    "    \n",
    "    # Generate mapping\n",
    "    xr_map, yr_map = mapping(xl,yl)\n",
    "    \n",
    "    # Determine RMSD\n",
    "    RMSD = sqrt(abs(xr_map - xr)**2 + abs(yr_map - yr)**2)\n",
    "    mean RMSD = mean(RMSD)\n",
    "    \n",
    "    # Plot mappings\n",
    "    plt.plot(xr, yr, 'bo')\n",
    "    plt.plot(xl, yl, 'ro')\n",
    "    plt.show()\n",
    "    \n",
    "    plt.plot(xr, yr, 'bo')\n",
    "    plt.plot(xr_map, yr_map, 'ro')\n",
    "    plt.show()\n",
    "\n",
    "if __main__ == '__main__':\n",
    "    main()"
   ]
  }
 ],
 "metadata": {
  "kernelspec": {
   "display_name": "Python 2",
   "language": "python",
   "name": "python2"
  },
  "language_info": {
   "codemirror_mode": {
    "name": "ipython",
    "version": 2
   },
   "file_extension": ".py",
   "mimetype": "text/x-python",
   "name": "python",
   "nbconvert_exporter": "python",
   "pygments_lexer": "ipython2",
   "version": "2.7.12"
  }
 },
 "nbformat": 4,
 "nbformat_minor": 0
}
