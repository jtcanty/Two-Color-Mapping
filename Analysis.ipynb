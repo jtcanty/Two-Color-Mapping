{
 "cells": [
  {
   "cell_type": "code",
   "execution_count": null,
   "metadata": {
    "collapsed": true
   },
   "outputs": [],
   "source": [
    "\"\"\"\n",
    "Analysis.py\n",
    "\n",
    "Created by John Canty on 02-18-2017\n",
    "\n",
    "This module is based on Peter Comb's original Python code for aligning two-color data\n",
    "\n",
    "\"\"\"\n",
    "\n",
    "from Mapping import *\n",
    "import numpy as np\n",
    "import matplotlib.pyplot as plt\n",
    "import scipy.interpolate as interp\n",
    "import xlrd\n",
    "\n",
    "path1 = 'C:\\\\Users\\\\TweedleDee\\\\Desktop\\\\ch1_coords.xlsx'\n",
    "path2 = 'C:\\\\Users\\\\TweedleDee\\\\Desktop\\\\ch2_coords.xlsx'\n",
    "\n",
    "def main():\n",
    "    '''Main function docstring'''\n",
    "    # Obtain coordinates\n",
    "    xl, yl = open_xl(path1)\n",
    "    xr, yr = open_xl(path2)\n",
    "    \n",
    "    # Generate mapping\n",
    "    mapping = makeLSQSpline(xl, yl, xr, yr, n = 20)\n",
    "    xr_map, yr_map = mapping(xl,yl)\n",
    "    \n",
    "    # Generate RMSD for each point\n",
    "    RMSD = sqrt(abs(xr-xr_map)**2 + abs(yr-yr_map)**2)\n",
    "    meanRSMD = mean(RMSD)\n",
    "\n",
    "if __name__ == '__main__':\n",
    "    main()\n",
    "    "
   ]
  },
  {
   "cell_type": "code",
   "execution_count": 8,
   "metadata": {
    "collapsed": false
   },
   "outputs": [
    {
     "name": "stdout",
     "output_type": "stream",
     "text": [
      "c:\\Users\\TweedleDee\\Anaconda3\\lib\\site-packages\\ipykernel\\__main__.py\n"
     ]
    }
   ],
   "source": [
    "\n",
    "import sys\n",
    "print(sys.argv[0])\n"
   ]
  },
  {
   "cell_type": "code",
   "execution_count": null,
   "metadata": {
    "collapsed": true
   },
   "outputs": [],
   "source": []
  }
 ],
 "metadata": {
  "kernelspec": {
   "display_name": "Python 3",
   "language": "python",
   "name": "python3"
  },
  "language_info": {
   "codemirror_mode": {
    "name": "ipython",
    "version": 3
   },
   "file_extension": ".py",
   "mimetype": "text/x-python",
   "name": "python",
   "nbconvert_exporter": "python",
   "pygments_lexer": "ipython3",
   "version": "3.6.0"
  }
 },
 "nbformat": 4,
 "nbformat_minor": 2
}
