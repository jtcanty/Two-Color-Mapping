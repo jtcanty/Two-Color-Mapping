{
 "cells": [
  {
   "cell_type": "code",
   "execution_count": 1,
   "metadata": {
    "collapsed": false
   },
   "outputs": [
    {
     "ename": "SyntaxError",
     "evalue": "unexpected EOF while parsing (<ipython-input-1-1f6449ed208f>, line 16)",
     "output_type": "error",
     "traceback": [
      "\u001b[0;36m  File \u001b[0;32m\"<ipython-input-1-1f6449ed208f>\"\u001b[0;36m, line \u001b[0;32m16\u001b[0m\n\u001b[0;31m    \u001b[0m\n\u001b[0m    ^\u001b[0m\n\u001b[0;31mSyntaxError\u001b[0m\u001b[0;31m:\u001b[0m unexpected EOF while parsing\n"
     ]
    }
   ],
   "source": [
    "\"\"\"\n",
    "Mapping.py\n",
    "\n",
    "Created by John Canty on 02-18-2017\n",
    "\n",
    "This module is based on Peter Comb's original Python code for aligning two-color data\n",
    "\n",
    "\"\"\"\n",
    "\n",
    "import numpy as np\n",
    "import matplotlib as plt\n",
    "import scipy.interpolate as interp\n",
    "\n",
    "def makeLSQSpline(xl, yl, xr, yr, n):\n",
    "    \"\"\" Creates fitting function for mapping the left channel onto the right channel \"\"\"\n",
    "    n = 20\n",
    "    \n",
    "    xmin = min(xl)\n",
    "    xmax = max(xl)\n",
    "    ymin = min(yl)\n",
    "    ymax = max(yl)\n",
    "    \n",
    "    xknots = np.linspace(xmin, xmax, n)\n",
    "    yknots = np.linspace(ymin, ymax, n)\n",
    "    \n",
    "    xspline = interp.LSQBivariateSpline(xl, yl, xr, xknots, yknots)\n",
    "    yspline = interp.LSQBivariateSpline(xl, y1, yr, xknots, yknots)\n",
    "    \n",
    "    \n",
    "    \n",
    "\n"
   ]
  },
  {
   "cell_type": "code",
   "execution_count": null,
   "metadata": {
    "collapsed": true
   },
   "outputs": [],
   "source": []
  }
 ],
 "metadata": {
  "kernelspec": {
   "display_name": "Python 3",
   "language": "python",
   "name": "python3"
  },
  "language_info": {
   "codemirror_mode": {
    "name": "ipython",
    "version": 3
   },
   "file_extension": ".py",
   "mimetype": "text/x-python",
   "name": "python",
   "nbconvert_exporter": "python",
   "pygments_lexer": "ipython3",
   "version": "3.6.0"
  }
 },
 "nbformat": 4,
 "nbformat_minor": 0
}
