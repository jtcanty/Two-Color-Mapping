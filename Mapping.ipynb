{
 "cells": [
  {
   "cell_type": "code",
   "execution_count": 57,
   "metadata": {
    "collapsed": false
   },
   "outputs": [],
   "source": [
    "\"\"\"\n",
    "Mapping.py\n",
    "\n",
    "Created by John Canty on 02-18-2017\n",
    "\n",
    "This module is based on Peter Comb's original Python code for aligning two-color data\n",
    "\n",
    "\"\"\"\n",
    "\n",
    "import numpy as np\n",
    "import matplotlib.pyplot as plt\n",
    "import scipy.interpolate as interp\n",
    "\n",
    "def makeLSQSpline( xl, yl, xr, yr, n):\n",
    "    \"\"\" Creates fitting function for mapping the left channel onto the right channel \"\"\"\n",
    "    \n",
    "    xmin = min(xl)\n",
    "    xmax = max(xl)\n",
    "    ymin = min(yl)\n",
    "    ymax = max(yl)\n",
    "    \n",
    "    xknots = np.linspace(xmin, xmax, n)\n",
    "    yknots = np.linspace(ymin, ymax, n)\n",
    "    \n",
    "    xspline = interp.LSQBivariateSpline(xl, yl, xr, xknots, yknots)\n",
    "    yspline = interp.LSQBivariateSpline(xl, yl, yr, xknots, yknots)\n",
    "    \n",
    "    def mapping(xl, yl):\n",
    "        xr = xspline.ev(xl,yl)\n",
    "        yr = yspline.ev(xl,yl)\n",
    "        return xr, yr\n",
    "    \n",
    "    mapping.xspline = xspline\n",
    "    mapping.yspline = yspline\n",
    "    mapping.maptype = \"LSQspline\"\n",
    "    return mapping\n",
    "\n",
    "if __name__ == '__main__':\n",
    "    main()\n",
    "\n",
    "    \n",
    "    \n",
    "    \n",
    "\n"
   ]
  },
  {
   "cell_type": "code",
   "execution_count": 49,
   "metadata": {
    "collapsed": false
   },
   "outputs": [
    {
     "ename": "SyntaxError",
     "evalue": "invalid syntax (<ipython-input-49-9abe679b9568>, line 13)",
     "output_type": "error",
     "traceback": [
      "\u001b[0;36m  File \u001b[0;32m\"<ipython-input-49-9abe679b9568>\"\u001b[0;36m, line \u001b[0;32m13\u001b[0m\n\u001b[0;31m    start =\u001b[0m\n\u001b[0m            ^\u001b[0m\n\u001b[0;31mSyntaxError\u001b[0m\u001b[0;31m:\u001b[0m invalid syntax\n"
     ]
    }
   ],
   "source": [
    "import sys\n",
    "import argparse\n",
    "\n",
    "from Mapping import *\n",
    "import numpy as np\n",
    "import matplotlib.pyplot as plt\n",
    "import scipy.interpolate as interp\n",
    "import xlrd\n",
    "\n",
    "def main():\n",
    "    '''Main function docstring'''\n",
    "    from scipy.io import loadmat\n",
    "    \n",
    "    data = loadmat(matfile,struct_as_record = False, squeeze_me = True)\n",
    "    xl = data[]\n",
    "    yl = data[]\n",
    "    xr = data[]\n",
    "    yr = data[]\n",
    "    \n",
    "    reg_dev = []\n",
    "    \n",
    "    # Perform mapping \n",
    "    for i in range(0, len(xl):\n",
    "        # Save a point in the grid in both channels\n",
    "        xl_p = xl[i]\n",
    "        yl_p = yl[i]\n",
    "        xr_p = xr[i]\n",
    "        yr_p = xr[i]\n",
    "                   \n",
    "        # Save the rest of the points\n",
    "        xl_n = xl[:i] + xl[i+1:]\n",
    "        yl_n = yl[:i] + yl[i+1:]\n",
    "        xr_n = xr[:i] + xr[i+1:]\n",
    "        yr_n = yr[:i] + yr[i+1:]\n",
    "\n",
    "        # Generate the mapping           \n",
    "        mapping = makeLSQSpline( xl_n, yl_n, xr_n, yr_n, n)\n",
    "        xr_map, yr_map = mapping(xl_p, yl_p)\n",
    "        \n",
    "        # Calculate target registration error\n",
    "        RMSD = sqrt(abs(xr_map - xr_p)**2 + abs(yr_map - yr_p)**2)                    \n",
    "        reg_dev = reg_dev.append(RMSD)\n",
    "                \n",
    "    mu = mean(reg_dev)\n",
    "    sigma = std(reg_dev)\n",
    "    \n",
    "    # Plot original channels\n",
    "    plt.plot(xr, yr, 'bo')\n",
    "    plt.plot(xl, yl, 'ro')\n",
    "    plt.show()\n",
    "    \n",
    "    # Plot registration error histogram\n",
    "    plt.hist(reg_dev,bins = 15)\n",
    "    plt.show()\n",
    "                   \n",
    "    \n",
    "\n",
    "    \n",
    "\n",
    "if __name__ == '__main__':\n",
    "    main()"
   ]
  },
  {
   "cell_type": "code",
   "execution_count": null,
   "metadata": {
    "collapsed": true
   },
   "outputs": [],
   "source": [
    "\n"
   ]
  },
  {
   "cell_type": "code",
   "execution_count": null,
   "metadata": {
    "collapsed": true
   },
   "outputs": [],
   "source": []
  }
 ],
 "metadata": {
  "kernelspec": {
   "display_name": "Python 2",
   "language": "python",
   "name": "python2"
  },
  "language_info": {
   "codemirror_mode": {
    "name": "ipython",
    "version": 2
   },
   "file_extension": ".py",
   "mimetype": "text/x-python",
   "name": "python",
   "nbconvert_exporter": "python",
   "pygments_lexer": "ipython2",
   "version": "2.7.12"
  }
 },
 "nbformat": 4,
 "nbformat_minor": 0
}
