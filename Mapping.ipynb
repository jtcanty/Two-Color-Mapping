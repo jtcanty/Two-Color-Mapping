{
 "cells": [
  {
   "cell_type": "code",
   "execution_count": 2,
   "metadata": {
    "collapsed": true
   },
   "outputs": [],
   "source": [
    "\"\"\"\n",
    "Mapping.py\n",
    "\n",
    "Created by John Canty on 02-18-2017\n",
    "\n",
    "This module is based on Peter Comb's original Python code for aligning two-color data\n",
    "\n",
    "\"\"\"\n",
    "\n",
    "import numpy as np\n",
    "import matplotlib.pyplot as plt\n",
    "import scipy.interpolate as interp\n",
    "\n",
    "def makeLSQSpline( xl, yl, xr, yr, n):\n",
    "    \"\"\" Creates fitting function for mapping the left channel onto the right channel \"\"\"\n",
    "    \n",
    "    xmin = min(xl)\n",
    "    xmax = max(xl)\n",
    "    ymin = min(yl)\n",
    "    ymax = max(yl)\n",
    "    \n",
    "    xknots = np.linspace(xmin, xmax, n)\n",
    "    yknots = np.linspace(ymin, ymax, n)\n",
    "    \n",
    "    xspline = interp.LSQBivariateSpline(xl, yl, xr, xknots, yknots)\n",
    "    yspline = interp.LSQBivariateSpline(xl, yl, yr, xknots, yknots)\n",
    "    \n",
    "    def mapping(xl, yl):\n",
    "        xr = xspline.ev(xl,yl)\n",
    "        yr = yspline.ev(xl,yl)\n",
    "        return xr, yr\n",
    "    \n",
    "    mapping.xspline = xspline\n",
    "    mapping.yspline = yspline\n",
    "    mapping.maptype = \"LSQspline\"\n",
    "    return mapping\n",
    "\n",
    "def findpairs(coords,radius):\n",
    "    '''Finds pairs of points in both channels\n",
    "    \n",
    "    Parameters:\n",
    "    \n",
    "    coords = numpy array of x and y coordinates from both\n",
    "    the left and right images\n",
    "    \n",
    "    radius = distance that is used as error metric for determining\n",
    "    pairs of points. Radius is determined based on the spacing of the grid \n",
    "    generated experimentally. For grid spacing of 0.5 um we will use an \n",
    "    error radius of 50 nm\n",
    "    '''\n",
    "    pairs = []\n",
    "    \n",
    "    coordsl = coords[0:1,:]\n",
    "    coordsr = coords[2:3,:]\n",
    "    \n",
    "    # Calculate pairwise distance matrix between points of both channels\n",
    "    for i in range(1:coordsl.shape[1]):\n",
    "        for j in range(1:coordsr.shape[1]):\n",
    "            xl = coordsl[0,:][i]\n",
    "            yl = coordsl[1,:][i]\n",
    "            xr = coordsr[0,:][j]\n",
    "            yr = coordsr[1,:][j]\n",
    "            \n",
    "            # If distance within error, add to pair\n",
    "            dist = sqrt(abs(xl - xr)**2 + abs(yl - yr)**2)\n",
    "            if dist < radius:\n",
    "                pairs = np.append(pairs, [xl, yl, xr, yr], axis=0)\n",
    "\n",
    "    return pairs\n",
    "\n"
   ]
  },
  {
   "cell_type": "code",
   "execution_count": 5,
   "metadata": {
    "collapsed": false
   },
   "outputs": [
    {
     "ename": "NameError",
     "evalue": "name 'data' is not defined",
     "output_type": "error",
     "traceback": [
      "\u001b[0;31m---------------------------------------------------------------------------\u001b[0m",
      "\u001b[0;31mNameError\u001b[0m                                 Traceback (most recent call last)",
      "\u001b[0;32m<ipython-input-5-dba38503dabb>\u001b[0m in \u001b[0;36m<module>\u001b[0;34m()\u001b[0m\n\u001b[0;32m----> 1\u001b[0;31m \u001b[0mprint\u001b[0m\u001b[1;33m(\u001b[0m\u001b[0mdata\u001b[0m\u001b[1;33m[\u001b[0m\u001b[1;34m'Area'\u001b[0m\u001b[1;33m]\u001b[0m\u001b[1;33m)\u001b[0m\u001b[1;33m\u001b[0m\u001b[0m\n\u001b[0m",
      "\u001b[0;31mNameError\u001b[0m: name 'data' is not defined"
     ]
    }
   ],
   "source": []
  },
  {
   "cell_type": "code",
   "execution_count": null,
   "metadata": {
    "collapsed": true
   },
   "outputs": [],
   "source": []
  }
 ],
 "metadata": {
  "kernelspec": {
   "display_name": "Python 3",
   "language": "python",
   "name": "python3"
  },
  "language_info": {
   "codemirror_mode": {
    "name": "ipython",
    "version": 3
   },
   "file_extension": ".py",
   "mimetype": "text/x-python",
   "name": "python",
   "nbconvert_exporter": "python",
   "pygments_lexer": "ipython3",
   "version": "3.6.0"
  }
 },
 "nbformat": 4,
 "nbformat_minor": 2
}
